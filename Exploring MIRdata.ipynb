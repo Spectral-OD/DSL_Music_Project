{
 "cells": [
  {
   "cell_type": "code",
   "execution_count": 1,
   "id": "0a94ff7c-e871-4a82-9059-bb799e26c1d9",
   "metadata": {},
   "outputs": [],
   "source": [
    "import mirdata\n",
    "from pprint import pprint"
   ]
  },
  {
   "cell_type": "code",
   "execution_count": 2,
   "id": "eb03a601-43c8-414a-b8c1-ce8f521e90a6",
   "metadata": {},
   "outputs": [
    {
     "name": "stdout",
     "output_type": "stream",
     "text": [
      "['dagstuhl_choirset']\n"
     ]
    }
   ],
   "source": [
    "dataset_search = list(filter(lambda x: x.find('choirset')>-1, mirdata.DATASETS))\n",
    "pprint(dataset_search )"
   ]
  },
  {
   "cell_type": "code",
   "execution_count": 4,
   "id": "fee63ea5-8285-42ed-a460-ee0d50be4c1d",
   "metadata": {},
   "outputs": [
    {
     "name": "stdin",
     "output_type": "stream",
     "text": [
      "type 'XXX' to redownload the dataset XXX\n"
     ]
    },
    {
     "name": "stderr",
     "output_type": "stream",
     "text": [
      "INFO: Downloading ['full_dataset'] to /tmp\\mir_datasets\\dagstuhl_choirset\n",
      "INFO: [full_dataset] downloading DagstuhlChoirSet_V1.2.3.zip\n",
      "4.75GB [36:41, 2.32MB/s]                                                                                               \n",
      "INFO: /tmp\\mir_datasets\\dagstuhl_choirset\\annotations_csv_beat already exists. Run with force_overwrite=True to download from scratch\n",
      "INFO: /tmp\\mir_datasets\\dagstuhl_choirset\\annotations_csv_F0_CREPE already exists. Run with force_overwrite=True to download from scratch\n",
      "INFO: /tmp\\mir_datasets\\dagstuhl_choirset\\annotations_csv_F0_manual already exists. Run with force_overwrite=True to download from scratch\n",
      "INFO: /tmp\\mir_datasets\\dagstuhl_choirset\\annotations_csv_F0_PYIN already exists. Run with force_overwrite=True to download from scratch\n",
      "INFO: /tmp\\mir_datasets\\dagstuhl_choirset\\annotations_csv_scorerepresentation already exists. Run with force_overwrite=True to download from scratch\n",
      "INFO: /tmp\\mir_datasets\\dagstuhl_choirset\\audio_wav_22050_mono already exists. Run with force_overwrite=True to download from scratch\n",
      "INFO: /tmp\\mir_datasets\\dagstuhl_choirset\\README.md already exists. Run with force_overwrite=True to download from scratch\n"
     ]
    },
    {
     "name": "stdout",
     "output_type": "stream",
     "text": [
      "completed download. validating:\n"
     ]
    },
    {
     "name": "stderr",
     "output_type": "stream",
     "text": [
      "100%|████████████████████████████████████████████████████████████████████████████████| 548/548 [00:12<00:00, 44.39it/s]\n",
      "100%|████████████████████████████████████████████████████████████████████████████████| 108/108 [00:03<00:00, 33.42it/s]\n",
      "INFO: Success: the dataset is complete and all files are valid.\n",
      "INFO: --------------------\n"
     ]
    },
    {
     "name": "stdout",
     "output_type": "stream",
     "text": [
      "completed validation\n"
     ]
    }
   ],
   "source": [
    "dataset_name = dataset_search[0]\n",
    "if not 'dataset' in locals():\n",
    "    dataset = mirdata.initialize(dataset_name)\n",
    "    print(f\"initialized dataset {dataset_name}\")\n",
    "if input(\"type 'XXX' to redownload the dataset\")==\"XXX\":\n",
    "    dataset.download(force_overwrite=erwrite=True)\n",
    "    print(\"completed download. validating:\")\n",
    "    dataset.validate()\n",
    "    print(\"completed validation\")"
   ]
  },
  {
   "cell_type": "code",
   "execution_count": 5,
   "id": "d7546662-1a19-44e7-a97b-2ad6e46dabea",
   "metadata": {},
   "outputs": [
    {
     "name": "stdout",
     "output_type": "stream",
     "text": [
      "Track(\n",
      "  audio_dyn_path=\"/tmp\\mir_datasets\\dagstuhl_choirset\\audio_wav_22050_mono/DCS_SE_FullChoir_ScaleUpDown14_S1_DYN.wav\",\n",
      "  audio_hsm_path=None,\n",
      "  audio_lrx_path=\"/tmp\\mir_datasets\\dagstuhl_choirset\\audio_wav_22050_mono/DCS_SE_FullChoir_ScaleUpDown14_S1_LRX.wav\",\n",
      "  f0_crepe_dyn_path=\"...mp\\mir_datasets\\dagstuhl_choirset\\annotations_csv_F0_CREPE/DCS_SE_FullChoir_ScaleUpDown14_S1_DYN.csv\",\n",
      "  f0_crepe_hsm_path=None,\n",
      "  f0_crepe_lrx_path=\"...mp\\mir_datasets\\dagstuhl_choirset\\annotations_csv_F0_CREPE/DCS_SE_FullChoir_ScaleUpDown14_S1_LRX.csv\",\n",
      "  f0_manual_lrx_path=None,\n",
      "  f0_pyin_dyn_path=\"...tmp\\mir_datasets\\dagstuhl_choirset\\annotations_csv_F0_PYIN/DCS_SE_FullChoir_ScaleUpDown14_S1_DYN.csv\",\n",
      "  f0_pyin_hsm_path=None,\n",
      "  f0_pyin_lrx_path=\"...tmp\\mir_datasets\\dagstuhl_choirset\\annotations_csv_F0_PYIN/DCS_SE_FullChoir_ScaleUpDown14_S1_LRX.csv\",\n",
      "  score_path=None,\n",
      "  track_id=\"DCS_SE_FullChoir_ScaleUpDown14_S1\",\n",
      "  audio_dyn: The audio for the track's dynamic microphone (if available)\n",
      "\n",
      "        Returns,\n",
      "  audio_hsm: The audio for the track's headset microphone (if available)\n",
      "\n",
      "        Returns,\n",
      "  audio_lrx: The audio for the track's larynx microphone (if available)\n",
      "\n",
      "        Returns,\n",
      "  f0_crepe_dyn: ,\n",
      "  f0_crepe_hsm: ,\n",
      "  f0_crepe_lrx: ,\n",
      "  f0_manual_lrx: ,\n",
      "  f0_pyin_dyn: ,\n",
      "  f0_pyin_hsm: ,\n",
      "  f0_pyin_lrx: ,\n",
      "  score: ,\n",
      ")\n"
     ]
    }
   ],
   "source": [
    "example_track = dataset.choice_track()  # choose a random example track\n",
    "print(example_track)  # see the available data"
   ]
  },
  {
   "cell_type": "code",
   "execution_count": 24,
   "id": "1163f2e2-bfec-4ffc-b9d3-b40ee389875e",
   "metadata": {},
   "outputs": [
    {
     "name": "stdout",
     "output_type": "stream",
     "text": [
      "properties of example_track:\n",
      "['track_id',\n",
      " '_dataset_name',\n",
      " '_data_home',\n",
      " '_track_paths',\n",
      " '_metadata',\n",
      " 'audio_dyn_path',\n",
      " 'audio_hsm_path',\n",
      " 'audio_lrx_path',\n",
      " 'f0_crepe_dyn_path',\n",
      " 'f0_crepe_hsm_path',\n",
      " 'f0_crepe_lrx_path',\n",
      " 'f0_pyin_dyn_path',\n",
      " 'f0_pyin_hsm_path',\n",
      " 'f0_pyin_lrx_path',\n",
      " 'f0_manual_lrx_path',\n",
      " 'score_path']\n"
     ]
    }
   ],
   "source": [
    "print(\"properties of example_track:\") \n",
    "list_of_keys = list(example_track.__dict__.keys())\n",
    "pprint(list_of_keys)"
   ]
  },
  {
   "cell_type": "code",
   "execution_count": 30,
   "id": "a6ce4516-4ecb-4496-b202-8c74df15c2b8",
   "metadata": {},
   "outputs": [
    {
     "ename": "TypeError",
     "evalue": "'Track' object is not subscriptable",
     "output_type": "error",
     "traceback": [
      "\u001b[1;31m---------------------------------------------------------------------------\u001b[0m",
      "\u001b[1;31mTypeError\u001b[0m                                 Traceback (most recent call last)",
      "Input \u001b[1;32mIn [30]\u001b[0m, in \u001b[0;36m<cell line: 1>\u001b[1;34m()\u001b[0m\n\u001b[0;32m      1\u001b[0m \u001b[38;5;28;01mfor\u001b[39;00m _key \u001b[38;5;129;01min\u001b[39;00m list_of_keys:\n\u001b[1;32m----> 2\u001b[0m     \u001b[38;5;28mprint\u001b[39m (\u001b[43mexample_track\u001b[49m\u001b[43m[\u001b[49m\u001b[43m_key\u001b[49m\u001b[43m]\u001b[49m)\n",
      "\u001b[1;31mTypeError\u001b[0m: 'Track' object is not subscriptable"
     ]
    }
   ],
   "source": [
    "for _key in list_of_keys:\n",
    "    print (example_track[_key])"
   ]
  },
  {
   "cell_type": "code",
   "execution_count": 35,
   "id": "b1cff713-edda-4919-b3ba-fd091faa2720",
   "metadata": {},
   "outputs": [
    {
     "name": "stdout",
     "output_type": "stream",
     "text": [
      "Track(\n",
      "  audio_dyn_path=\"/tmp\\mir_datasets\\dagstuhl_choirset\\audio_wav_22050_mono/DCS_SE_FullChoir_ScaleUpDown14_S1_DYN.wav\",\n",
      "  audio_hsm_path=None,\n",
      "  audio_lrx_path=\"/tmp\\mir_datasets\\dagstuhl_choirset\\audio_wav_22050_mono/DCS_SE_FullChoir_ScaleUpDown14_S1_LRX.wav\",\n",
      "  f0_crepe_dyn_path=\"...mp\\mir_datasets\\dagstuhl_choirset\\annotations_csv_F0_CREPE/DCS_SE_FullChoir_ScaleUpDown14_S1_DYN.csv\",\n",
      "  f0_crepe_hsm_path=None,\n",
      "  f0_crepe_lrx_path=\"...mp\\mir_datasets\\dagstuhl_choirset\\annotations_csv_F0_CREPE/DCS_SE_FullChoir_ScaleUpDown14_S1_LRX.csv\",\n",
      "  f0_manual_lrx_path=None,\n",
      "  f0_pyin_dyn_path=\"...tmp\\mir_datasets\\dagstuhl_choirset\\annotations_csv_F0_PYIN/DCS_SE_FullChoir_ScaleUpDown14_S1_DYN.csv\",\n",
      "  f0_pyin_hsm_path=None,\n",
      "  f0_pyin_lrx_path=\"...tmp\\mir_datasets\\dagstuhl_choirset\\annotations_csv_F0_PYIN/DCS_SE_FullChoir_ScaleUpDown14_S1_LRX.csv\",\n",
      "  score_path=None,\n",
      "  track_id=\"DCS_SE_FullChoir_ScaleUpDown14_S1\",\n",
      "  audio_dyn: The audio for the track's dynamic microphone (if available)\n",
      "\n",
      "        Returns,\n",
      "  audio_hsm: The audio for the track's headset microphone (if available)\n",
      "\n",
      "        Returns,\n",
      "  audio_lrx: The audio for the track's larynx microphone (if available)\n",
      "\n",
      "        Returns,\n",
      "  f0_crepe_dyn: ,\n",
      "  f0_crepe_hsm: ,\n",
      "  f0_crepe_lrx: ,\n",
      "  f0_manual_lrx: ,\n",
      "  f0_pyin_dyn: ,\n",
      "  f0_pyin_hsm: ,\n",
      "  f0_pyin_lrx: ,\n",
      "  score: ,\n",
      ")\n"
     ]
    }
   ],
   "source": [
    "print(example_track)"
   ]
  },
  {
   "cell_type": "code",
   "execution_count": 36,
   "id": "f9f5b375-9867-4f1b-81cd-ab80b7ed0d6d",
   "metadata": {},
   "outputs": [
    {
     "data": {
      "text/plain": [
       "The dagstuhl_choirset dataset\n",
       "----------------------------------------------------------------------------------------------------\n",
       "\n",
       "\n",
       "Call the .cite method for bibtex citations.\n",
       "----------------------------------------------------------------------------------------------------\n",
       "\n",
       "\n",
       "Dagstuhl ChoirSet Track class\n",
       "\n",
       "    Args:\n",
       "        track_id (str): track id of the track\n",
       "\n",
       "    Attributes:\n",
       "        audio_dyn_path (str): dynamic microphone audio path\n",
       "        audio_hsm_path (str): headset microphone audio path\n",
       "        audio_lrx_path (str): larynx microphone audio path\n",
       "        f0_crepe_dyn_path (str): crepe f0 annotation for dynamic microphone path\n",
       "        f0_crepe_hsm_path (str): crepe f0 annotation for headset microphone path\n",
       "        f0_crepe_lrx_path (str): crepe f0 annotation for larynx microphone path\n",
       "        f0_pyin_dyn_path (str): pyin f0 annotation for dynamic microphone path\n",
       "        f0_pyin_hsm_path (str): pyin f0 annotation for headset microphone path\n",
       "        f0_pyin_lrx_path (str): pyin f0 annotation for larynx microphone path\n",
       "        f0_manual_lrx_path (str): manual f0 annotation for larynx microphone path\n",
       "        score_path (str): score annotation path\n",
       "\n",
       "    Cached Properties:\n",
       "        f0_crepe_dyn (F0Data): algorithm-labeled (crepe) f0 annotations for dynamic microphone\n",
       "        f0_crepe_hsn (F0Data): algorithm-labeled (crepe) f0 annotations for headset microphone\n",
       "        f0_crepe_lrx (F0Data): algorithm-labeled (crepe) f0 annotations for larynx microphone\n",
       "        f0_pyin_dyn (F0Data): algorithm-labeled (pyin) f0 annotations for dynamic microphone\n",
       "        f0_pyin_hsn (F0Data): algorithm-labeled (pyin) f0 annotations for headset microphone\n",
       "        f0_pyin_lrx (F0Data): algorithm-labeled (pyin) f0 annotations for larynx microphone\n",
       "        f0_manual_lrx (F0Data): manually labeled f0 annotations for larynx microphone\n",
       "        score (NoteData): time-aligned score representation\n",
       "\n",
       "    ----------------------------------------------------------------------------------------------------\n",
       "Dagstuhl ChoirSet multitrack class\n",
       "\n",
       "    Args:\n",
       "        mtrack_id (str): multitrack id\n",
       "        data_home (str): Local path where the dataset is stored.\n",
       "            If `None`, looks for the data in the default directory, `~/mir_datasets/dagstuhl_choirset`\n",
       "\n",
       "    Attributes:\n",
       "        audio_stm_path (str): path to room mic (mono mixdown) audio file\n",
       "        audio_str_path (str): path to room mic (right channel) audio file\n",
       "        audio_stl_path (str): path to room mic (left channel) audio file\n",
       "        audio_rev_path (str): path to room mic with artifical reverb (mono mixdown) audio file\n",
       "        audio_spl_path (str): path to piano accompaniment (left channel) audio file\n",
       "        audio_spr_path (str): path to piano accompaniement (right channel) audio file\n",
       "        beat_path (str): path to beat annotation file\n",
       "\n",
       "    Cached Properties:\n",
       "        beat (annotations.BeatData): Beat annotation\n",
       "        notes (annotations.NoteData): Note annotation\n",
       "        multif0 (annotations.MultiF0Data): Aggregate of f0 annotations for tracks\n",
       "\n",
       "    ----------------------------------------------------------------------------------------------------"
      ]
     },
     "execution_count": 36,
     "metadata": {},
     "output_type": "execute_result"
    }
   ],
   "source": [
    "dataset"
   ]
  },
  {
   "cell_type": "code",
   "execution_count": null,
   "id": "ef3485d8-75aa-45b9-8e57-878872029480",
   "metadata": {},
   "outputs": [],
   "source": []
  }
 ],
 "metadata": {
  "kernelspec": {
   "display_name": "Python 3 (ipykernel)",
   "language": "python",
   "name": "python3"
  },
  "language_info": {
   "codemirror_mode": {
    "name": "ipython",
    "version": 3
   },
   "file_extension": ".py",
   "mimetype": "text/x-python",
   "name": "python",
   "nbconvert_exporter": "python",
   "pygments_lexer": "ipython3",
   "version": "3.10.5"
  }
 },
 "nbformat": 4,
 "nbformat_minor": 5
}
