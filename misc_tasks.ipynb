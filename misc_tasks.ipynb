{
 "cells": [
  {
   "cell_type": "markdown",
   "id": "8aa3dddd-fa68-4038-8616-637c375010fe",
   "metadata": {},
   "source": [
    "## Creating .txt file listing training files"
   ]
  },
  {
   "cell_type": "code",
   "execution_count": 1,
   "id": "f86c0ae9-b666-4cd2-a7ee-64dceb7d61ec",
   "metadata": {},
   "outputs": [],
   "source": [
    "from pathlib import Path\n",
    "from pprint import pprint\n",
    "\n",
    "print_training_files = False\n",
    "\n",
    "local_data_folder = Path(r'C:/git/Datasets/training_sinewaves_22050/')\n",
    "data_folder = Path(local_data_folder) if local_data_folder.is_dir else input(\"enter training data folder:\\n\")\n",
    "output_file = 'c:/github/cgae-invar/filelist.txt'\n",
    "\n",
    "lines = []\n",
    "for file in data_folder.glob('**/*.wav'):\n",
    "    lines.append(str(file.resolve()))    \n",
    "    \n",
    "sep = \"\\n\"\n",
    "new_lines= sep.join(lines)\n",
    "\n",
    "with open(output_file, 'w') as f:\n",
    "    f.writelines(new_lines)\n",
    "\n",
    "if print_training_files:    \n",
    "    pprint(new_lines)"
   ]
  },
  {
   "cell_type": "markdown",
   "id": "75e63c84-417f-473e-96b7-6ab1c6986fa6",
   "metadata": {},
   "source": [
    "## Creating .txt file for test data"
   ]
  },
  {
   "cell_type": "code",
   "execution_count": 2,
   "id": "0ca2e9f6-c0f5-4daa-b828-ad6b5cd1cb45",
   "metadata": {},
   "outputs": [
    {
     "name": "stdout",
     "output_type": "stream",
     "text": [
      "('C:\\\\git\\\\Datasets\\\\test_tone_stairs\\\\01_sinewave_stairs.wav\\n'\n",
      " 'C:\\\\git\\\\Datasets\\\\test_tone_stairs\\\\02_sawwave_stairs.wav\\n'\n",
      " 'C:\\\\git\\\\Datasets\\\\test_tone_stairs\\\\03_choir_stairs.wav\\n'\n",
      " 'C:\\\\git\\\\Datasets\\\\test_tone_stairs\\\\04_noise.wav')\n"
     ]
    }
   ],
   "source": [
    "print_testing_files = True\n",
    "\n",
    "local_data_folder = Path(r'C:/git/Datasets/test_tone_stairs/')\n",
    "data_folder = Path(local_data_folder) if local_data_folder.is_dir else input(\"enter training data folder:\\n\")\n",
    "output_file = 'c:/github/cgae-invar/filelist_test.txt'\n",
    "\n",
    "lines = []\n",
    "for file in data_folder.glob('**/*.wav'):\n",
    "    lines.append(str(file.resolve()))    \n",
    "    \n",
    "sep = \"\\n\"\n",
    "new_lines= sep.join(lines)\n",
    "\n",
    "with open(output_file, 'w') as f:\n",
    "    f.writelines(new_lines)\n",
    "\n",
    "if print_testing_files:    \n",
    "    pprint(new_lines)"
   ]
  },
  {
   "cell_type": "markdown",
   "id": "46fa0d5c-5ff7-4029-a55b-dfb003da785a",
   "metadata": {},
   "source": [
    "## Downsampling Training Data 44100 to 22050 Hz"
   ]
  },
  {
   "cell_type": "code",
   "execution_count": null,
   "id": "029a28ec-fad1-4402-96d2-50ae4abafb3e",
   "metadata": {},
   "outputs": [],
   "source": [
    "from pathlib import Path\n",
    "from librosa import resample, load\n",
    "import soundfileסס\n",
    "\n",
    "original_folder = Path(r'C:\\git\\Datasets\\training_sinewaves')\n",
    "destination_folder = Path(r\"C:\\git\\Datasets\\training_sinewaves_22050\")\n",
    "\n",
    "orig_sr = 44100\n",
    "target_sr = 22050\n",
    "suffix = \".wav\"\n",
    "\n",
    "if not destination_folder.exists():\n",
    "    destination_folder.mkdir()\n",
    "    \n",
    "files = list(original_folder.iterdir())\n",
    "\n",
    "for file in files:\n",
    "    data,orig_sr = load(file, sr=orig_sr)\n",
    "    output = resample(data, orig_sr=orig_sr, target_sr=target_sr)\n",
    "    file_name = file.stem + suffix\n",
    "    output_path = Path(destination_folder, file_name)\n",
    "    # print(output_path)\n",
    "    # print(output.shape)\n",
    "    soundfile.write(output_path, output, target_sr)\n",
    "    \n",
    "print(\"done\")"
   ]
  }
 ],
 "metadata": {
  "kernelspec": {
   "display_name": "Python 3 (ipykernel)",
   "language": "python",
   "name": "python3"
  },
  "language_info": {
   "codemirror_mode": {
    "name": "ipython",
    "version": 3
   },
   "file_extension": ".py",
   "mimetype": "text/x-python",
   "name": "python",
   "nbconvert_exporter": "python",
   "pygments_lexer": "ipython3",
   "version": "3.10.5"
  }
 },
 "nbformat": 4,
 "nbformat_minor": 5
}
